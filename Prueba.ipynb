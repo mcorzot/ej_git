{
  "nbformat": 4,
  "nbformat_minor": 0,
  "metadata": {
    "colab": {
      "provenance": [],
      "toc_visible": true,
      "authorship_tag": "ABX9TyPMfW4j5lwcii3B0kicRH8g",
      "include_colab_link": true
    },
    "kernelspec": {
      "name": "python3",
      "display_name": "Python 3"
    },
    "language_info": {
      "name": "python"
    }
  },
  "cells": [
    {
      "cell_type": "markdown",
      "metadata": {
        "id": "view-in-github",
        "colab_type": "text"
      },
      "source": [
        "<a href=\"https://colab.research.google.com/github/mcorzot/ej_git/blob/master/Prueba.ipynb\" target=\"_parent\"><img src=\"https://colab.research.google.com/assets/colab-badge.svg\" alt=\"Open In Colab\"/></a>"
      ]
    },
    {
      "cell_type": "markdown",
      "source": [
        "Pruebas con Python en Google Colab"
      ],
      "metadata": {
        "id": "8mXZj9RvVngR"
      }
    },
    {
      "cell_type": "code",
      "execution_count": 1,
      "metadata": {
        "id": "QrYLWPtbTtHE"
      },
      "outputs": [],
      "source": [
        "def sumar_dos_valores (valor1,valor2):\n",
        "  return valor1 + valor2"
      ]
    },
    {
      "cell_type": "code",
      "source": [
        "resultado = sumar_dos_valores(1,5)"
      ],
      "metadata": {
        "id": "KyxKvNnyVWB9"
      },
      "execution_count": 2,
      "outputs": []
    },
    {
      "cell_type": "code",
      "source": [
        "resultado"
      ],
      "metadata": {
        "colab": {
          "base_uri": "https://localhost:8080/"
        },
        "id": "IYJDbDLpWHiQ",
        "outputId": "f7d8b178-1de0-4acc-9b4f-3e75da88ae52"
      },
      "execution_count": 3,
      "outputs": [
        {
          "output_type": "execute_result",
          "data": {
            "text/plain": [
              "6"
            ]
          },
          "metadata": {},
          "execution_count": 3
        }
      ]
    }
  ]
}